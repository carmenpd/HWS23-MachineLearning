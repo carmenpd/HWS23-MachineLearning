{
 "cells": [
  {
   "cell_type": "code",
   "execution_count": null,
   "metadata": {},
   "outputs": [],
   "source": [
    "from sklearn.model_selection import train_test_split\n",
    "from sklearn.preprocessing import PolynomialFeatures\n",
    "from sklearn.pipeline import make_pipeline\n",
    "from sklearn.linear_model import LinearRegression\n",
    "\n",
    "\n",
    "lambda_ = np.append([0],[0.0001*10**i for i in range(0,5)])\n",
    "beta_list = []\n",
    "MSE_train = np.zeros((len(lambda_),degree))\n",
    "MSE_test = np.zeros((len(lambda_), degree))\n",
    "rsqr = np.zeros((len(lambda_),degree))\n",
    "\n",
    "for j in range(0, len(lambda_)):\n",
    "    for i in range(1, degree+1):\n",
    "        c = int((i+2)*(i+1)/2)\n",
    "        X_tilde = X_train[:,0:c-1]\n",
    "        beta = np.linalg.pinv(X_tilde.T @ X_tilde + lambda_[j]*np.ones((len(X_tilde.T),len(X_tilde.T)))) @ X_tilde.T @ y_train\n",
    "\n",
    "        beta_list.append(list(beta))\n",
    "        ypredict = X_tilde @ beta\n",
    "\n",
    "        ypredict_test = X_test[:,0:c-1] @ beta\n",
    "        #y_train = y_train.reshape(len(y_train), 1)\n",
    "\n",
    "        MSE_train[j, i-1] = MSE(y_train, ypredict)\n",
    "\n",
    "        #y_test = y_test.reshape(len(y_test), 1)\n",
    "        MSE_test[j, i-1] = MSE(y_test, ypredict_test)\n",
    "        rsqr[j, i-1]= rsquare(y_train, ypredict)\n",
    "\n",
    "# MSE and R^2\n",
    "# plot the MSE and R^2 - as well as beta - as functions of the polynomial degree\n",
    "fig2 = plt.figure()\n",
    "plt.xlabel(\"degree of the polynom\")\n",
    "\n",
    "ind = np.arange(1, degree +1)\n",
    "plt.plot(ind, MSE_train, 'go', label='MSE_train')\n",
    "plt.plot(ind, MSE_test, 'bo', label='MSE_test')\n",
    "plt.plot(ind, rsqr, 'rx', label='R square')\n",
    "#plt.plot(beta_list, 'yx', label='beta')\n",
    "plt.legend()"
   ]
  }
 ],
 "metadata": {
  "language_info": {
   "name": "python"
  },
  "orig_nbformat": 4
 },
 "nbformat": 4,
 "nbformat_minor": 2
}
