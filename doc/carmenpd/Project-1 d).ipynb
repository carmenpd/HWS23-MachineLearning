{
 "cells": [
  {
   "cell_type": "markdown",
   "metadata": {},
   "source": [
    "## Part d): Paper and pencil part\n",
    "\n",
    "This part aims to examin the distribution properties of the made observation as well as the model-produced beta. These properties will allow us to later make statements concerning the validity of our model. E. g. the then known distribution of beta will allow us to give confidence intervals of beta.\n",
    "\n",
    "We will show that the observation as well as beta follow a normal ditribution.\n",
    "\n"
   ]
  }
 ],
 "metadata": {
  "language_info": {
   "name": "python"
  },
  "orig_nbformat": 4
 },
 "nbformat": 4,
 "nbformat_minor": 2
}
