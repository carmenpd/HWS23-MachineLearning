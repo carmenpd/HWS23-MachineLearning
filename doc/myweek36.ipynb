{
 "cells": [
  {
   "cell_type": "code",
   "execution_count": 4,
   "metadata": {},
   "outputs": [],
   "source": [
    "import numpy as np\n",
    "\n",
    "lambda_ = np.array([0.0001*10**i for i in range(0,5)])\n",
    "\n",
    "\n",
    "n = 100\n",
    "degree = [5, 10, 15]\n",
    "\n",
    "np.random.seed()\n",
    "# Make data set.\n",
    "x = np.linspace(-3, 3, n).reshape(-1, 1)\n",
    "y = np.exp(-x**2) + 1.5 * np.exp(-(x-2)**2)+ np.random.normal(0, 0.1, x.shape)\n",
    "\n",
    "MSE_train = np.zeros(len(degree))\n",
    "MSE_test = np.zeros(len(degree))\n",
    "\n",
    "for i in range(1,len(degree)):\n",
    "\n",
    "    X_tilde = X[:,0:(i+1)]\n",
    "    X_train, X_test, y_train, y_test = train_test_split( X_tilde, y, test_size=0.33, random_state=42)\n",
    "\n",
    "    x = X_train[:,1].reshape((len(X_train)),1)\n",
    "    model = make_pipeline(PolynomialFeatures(degree=i), LinearRegression(fit_intercept=False))\n",
    "    clf = model.fit(x,y_train)\n",
    "    ypredict = clf.predict(x)\n",
    "\n",
    "    MSE_train[i-1] = MSE(y_train, ypredict)\n",
    "\n",
    "    ypredict_test = clf.predict(X_test[:,1].reshape((len(X_test)),1))\n",
    "    MSE_test[i-1] = MSE(y_test, ypredict_test)\n"
   ]
  }
 ],
 "metadata": {
  "kernelspec": {
   "display_name": "Python 3",
   "language": "python",
   "name": "python3"
  },
  "language_info": {
   "codemirror_mode": {
    "name": "ipython",
    "version": 3
   },
   "file_extension": ".py",
   "mimetype": "text/x-python",
   "name": "python",
   "nbconvert_exporter": "python",
   "pygments_lexer": "ipython3",
   "version": "3.10.7"
  },
  "orig_nbformat": 4
 },
 "nbformat": 4,
 "nbformat_minor": 2
}
